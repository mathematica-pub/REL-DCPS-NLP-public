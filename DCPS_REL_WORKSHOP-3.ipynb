{
 "cells": [
  {
   "cell_type": "code",
   "execution_count": 1,
   "id": "b52121ec-7cb8-4f7b-a7de-1216f3f28600",
   "metadata": {},
   "outputs": [],
   "source": [
    "## Imports\n",
    "import pandas as pd\n",
    "import os  \n",
    "import re\n",
    "  "
   ]
  },
  {
   "cell_type": "code",
   "execution_count": 3,
   "id": "d58ad297-ddd1-4ba9-b503-385d70f8076f",
   "metadata": {},
   "outputs": [
    {
     "name": "stdout",
     "output_type": "stream",
     "text": [
      "Feedback:\n",
      "Specificity: The goal is not very specific as it does not clearly outline what \"daily reading practice\" entails or what activities will be used to enhance understanding.\n",
      "Measurability: It is unclear how the progress of students' reading practice and understanding of texts will be measured.\n",
      "Achievability: The goal seems achievable as it is focused on daily practice and activities to enhance understanding.\n",
      "Deadline clarity: There is no specific deadline mentioned in the goal.\n",
      "Equity and inclusivity: The goal does not address equity and inclusivity considerations.\n",
      "\n",
      "Suggestions for improvement:\n",
      "- Specify the amount of time students should spend on daily reading practice.\n",
      "- Clearly outline the activities that will be used to enhance understanding.\n",
      "- Include measurable outcomes such as reading comprehension assessments or participation in discussions.\n",
      "- Set a deadline for when students should demonstrate improvement in their understanding of texts.\n",
      "- Consider incorporating strategies to ensure equity and inclusivity, such as providing diverse reading materials.\n",
      "\n",
      "Specificity: 2\n",
      "Measurability: 2\n",
      "Achievability: 4\n",
      "Deadline clarity: 1\n",
      "Equity and inclusivity: 1\n"
     ]
    }
   ],
   "source": [
    "\n",
    "## Read in goals\n",
    "fake_goals = pd.read_csv(\"./data/fake_goal_feedback_w_openai.csv\")\n",
    "\n",
    "## Look at examples of openai responses\n",
    "fake_goals.openai_responses[0]\n",
    "fake_goals.openai_responses[1]\n",
    "print(fake_goals.openai_responses[0])\n",
    "\n"
   ]
  },
  {
   "cell_type": "code",
   "execution_count": 9,
   "id": "f454377e-ce2b-4331-b4ea-0e0b2d144980",
   "metadata": {},
   "outputs": [],
   "source": [
    "\n",
    "## Extract those scores with regular expressions\n",
    "### Loop through dimensions and extract the digits\n",
    "\n",
    "outcome_dims = ['Specificity', 'Measurability', 'Achievability', 'Deadline clarity', 'Equity and inclusivity']\n",
    "\n",
    "for dim in outcome_dims:\n",
    "    fake_goals[dim] = fake_goals['openai_responses'].str.extract(dim + r': (\\d)', expand=False)\n"
   ]
  },
  {
   "cell_type": "code",
   "execution_count": 11,
   "id": "bff89e3f-d74c-44f6-93b8-59477295a503",
   "metadata": {},
   "outputs": [
    {
     "name": "stdout",
     "output_type": "stream",
     "text": [
      "goal_id                                                                   1\n",
      "goal                      Students will engage in daily reading practice...\n",
      "check_big_ie              \\n\\nHere's my feedback on the quality of the g...\n",
      "check_big                 \\n\\nHere's my feedback on the quality of the g...\n",
      "check_small               \\n\\n**Specificity:** 4/5\\nThe goal is specific...\n",
      "openai_responses          Feedback:\\nSpecificity: The goal is not very s...\n",
      "Specificity                                                               2\n",
      "Measurability                                                             2\n",
      "Achievability                                                             4\n",
      "Deadline clarity                                                          1\n",
      "Equity and inclusivity                                                    1\n",
      "Name: 0, dtype: object\n"
     ]
    }
   ],
   "source": [
    "print(fake_goals.loc[0,:])"
   ]
  },
  {
   "cell_type": "code",
   "execution_count": 12,
   "id": "9cd71e3f-b951-42a4-8334-94b019bf4cd5",
   "metadata": {},
   "outputs": [],
   "source": [
    "\n",
    "## Save the data\n",
    "\n",
    "fake_goals.to_csv(\"./data/fake_goal_feedback_w_openai_scores.csv\", index=False)"
   ]
  },
  {
   "cell_type": "code",
   "execution_count": null,
   "id": "e53a567b-a669-4906-ba65-4e384c9e6d9f",
   "metadata": {},
   "outputs": [],
   "source": []
  }
 ],
 "metadata": {
  "kernelspec": {
   "display_name": "Python 3 (ipykernel)",
   "language": "python",
   "name": "python3"
  },
  "language_info": {
   "codemirror_mode": {
    "name": "ipython",
    "version": 3
   },
   "file_extension": ".py",
   "mimetype": "text/x-python",
   "name": "python",
   "nbconvert_exporter": "python",
   "pygments_lexer": "ipython3",
   "version": "3.10.14"
  }
 },
 "nbformat": 4,
 "nbformat_minor": 5
}
